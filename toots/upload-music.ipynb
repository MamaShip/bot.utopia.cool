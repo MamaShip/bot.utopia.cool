{
 "cells": [
  {
   "cell_type": "markdown",
   "metadata": {},
   "source": [
    "### 准备工作"
   ]
  },
  {
   "cell_type": "code",
   "execution_count": 7,
   "metadata": {},
   "outputs": [
    {
     "name": "stdout",
     "output_type": "stream",
     "text": [
      "2020-11-04 22:22:00\n"
     ]
    }
   ],
   "source": [
    "from mastodon import Mastodon, MastodonIllegalArgumentError\n",
    "import os\n",
    "# def website\n",
    "mstd_website = 'https://utopia.cool'\n",
    "\n",
    "# account\n",
    "BOT_ACCOUNT = \"572616445@qq.com\"\n",
    "BOT_PASSWD = \"Yyy950323\"\n",
    "\n",
    "def make_cred_secret():\n",
    "    Mastodon.create_app(\n",
    "        'good night',\n",
    "        api_base_url = mstd_website,\n",
    "        to_file = 'night_client.secret'\n",
    "    )\n",
    "    mastodon = Mastodon(\n",
    "        client_id = 'night_client.secret',\n",
    "        api_base_url = mstd_website\n",
    "    )\n",
    "    mastodon.log_in(\n",
    "        BOT_ACCOUNT,\n",
    "        BOT_PASSWD,\n",
    "        to_file = 'night_user.secret'\n",
    "    )\n",
    "    \n",
    "make_cred_secret()\n",
    "mastodon = Mastodon(\n",
    "        access_token = 'night_user.secret',\n",
    "        api_base_url = mstd_website\n",
    "    )\n",
    "\n",
    "def get_date():\n",
    "    d = schedule_time\n",
    "    return d.year, d.month, d.day\n",
    "\n",
    "def get_date_str(separator='-'):\n",
    "    assert(isinstance(separator, str))\n",
    "    num = get_date()\n",
    "    day_str = separator.join(map(str, num))\n",
    "    return day_str\n",
    "\n",
    "def post_msg(text, media, schedule_time):\n",
    "    media_dict = mastodon.media_post(media)\n",
    "    response = mastodon.status_post(text, media_ids=media_dict, visibility=\"public\", scheduled_at=schedule_time)\n",
    "    # 测试时可用 direct 发送私信给自己的账号:\n",
    "    #response = mastodon.status_post(\"@twisted \" + text, media_ids=media_dict, visibility=\"direct\", scheduled_at=schedule_time)\n",
    "    return response\n",
    "\n",
    "def get_music_path(file_name):\n",
    "    music_file_path = os.path.join(FILE_PATH, file_name)\n",
    "    if not os.path.isfile(music_file_path):\n",
    "        raise IOError(\"没有找到音乐文件\")\n",
    "    return music_file_path\n",
    "\n",
    "def get_msg_text(name, writer):\n",
    "    text = get_date_str('/')\n",
    "    text += \"\\n\\n歌曲：\" + name + \"\\n艺术家：\" + writer\n",
    "    # print(text)\n",
    "    return text\n",
    "\n",
    "from datetime import datetime,timedelta\n",
    "\n",
    "one_day = delta = timedelta(days=1)\n",
    "\n",
    "schedule_time = datetime.today().replace(hour=22, minute=22, second=0, microsecond=0)\n",
    "print(schedule_time)"
   ]
  },
  {
   "cell_type": "code",
   "execution_count": 8,
   "metadata": {},
   "outputs": [
    {
     "data": {
      "text/plain": [
       "[]"
      ]
     },
     "execution_count": 8,
     "metadata": {},
     "output_type": "execute_result"
    }
   ],
   "source": [
    "# 查询已有的定时消息\n",
    "mastodon.scheduled_statuses()"
   ]
  },
  {
   "cell_type": "markdown",
   "metadata": {},
   "source": [
    "### 先用上面命令查询过已有 schedule 后，再用下面语句设置到要上传的下一个日期"
   ]
  },
  {
   "cell_type": "code",
   "execution_count": 3,
   "metadata": {},
   "outputs": [],
   "source": [
    "schedule_time = schedule_time.replace(month=11,day=4) # 修改这里的 month 和 day"
   ]
  },
  {
   "cell_type": "markdown",
   "metadata": {},
   "source": [
    "### 执行定时消息的发送："
   ]
  },
  {
   "cell_type": "code",
   "execution_count": 9,
   "metadata": {},
   "outputs": [
    {
     "name": "stdout",
     "output_type": "stream",
     "text": [
      "current schedule_time: 2020-11-04 22:22:00\n",
      "歌曲名：董小姐\n",
      "音乐家：宋冬野\n",
      "音乐文件名：宋冬野 - 董小姐.mp3\n",
      "2020/11/4\n",
      "\n",
      "歌曲：董小姐\n",
      "艺术家：宋冬野 \n",
      "文件名: 宋冬野 - 董小姐.mp3\n",
      "这些信息正确吗？(y/n)n\n",
      "歌曲名：董小姐\n",
      "音乐家：宋冬野\n",
      "音乐文件名：宋冬野 - 董小姐.mp3\n",
      "2020/11/4\n",
      "\n",
      "歌曲：董小姐\n",
      "艺术家：宋冬野 \n",
      "文件名: 宋冬野 - 董小姐.mp3\n",
      "这些信息正确吗？(y/n)\n",
      "歌曲名：董小姐\n",
      "音乐家：宋冬野\n",
      "音乐文件名：宋冬野 - 董小姐.mp3\n",
      "2020/11/4\n",
      "\n",
      "歌曲：董小姐\n",
      "艺术家：宋冬野 \n",
      "文件名: 宋冬野 - 董小姐.mp3\n",
      "这些信息正确吗？(y/n)y\n",
      "Sending...\n",
      "scheduled_at: 2020-11-04 14:22:00+00:00\n",
      "继续吗？（回车=结束；任意输入=继续）y\n",
      "OK 继续上传下一首\n",
      "current schedule_time: 2020-11-05 22:22:00\n",
      "歌曲名：3/4\n",
      "音乐家：Goose house (グースハウス)\n",
      "音乐文件名：Goose house (グースハウス) - 3_4.mp3\n",
      "2020/11/5\n",
      "\n",
      "歌曲：3/4\n",
      "艺术家：Goose house (グースハウス) \n",
      "文件名: Goose house (グースハウス) - 3_4.mp3\n",
      "这些信息正确吗？(y/n)y\n",
      "Sending...\n",
      "scheduled_at: 2020-11-05 14:22:00+00:00\n",
      "继续吗？（回车=结束；任意输入=继续）\n"
     ]
    }
   ],
   "source": [
    "while True:\n",
    "    print(\"current schedule_time:\", schedule_time)\n",
    "    while True:\n",
    "        name = input(\"歌曲名：\")\n",
    "        writer = input(\"音乐家：\")\n",
    "        music = input(\"音乐文件名：\")\n",
    "        msg_text = get_msg_text(name, writer)\n",
    "        music_file = music\n",
    "        print(\">>>>>\\n\" + msg_text, \"\\n文件名:\" + music)\n",
    "        check = input(\"这些信息正确吗？(y/n)\")\n",
    "        if not check:\n",
    "            break\n",
    "        elif check.lower() == \"y\":\n",
    "            break\n",
    "        \n",
    "    print(\"Sending...\")\n",
    "    response = post_msg(msg_text, music_file, schedule_time)\n",
    "    print('scheduled_at:', response['scheduled_at'])\n",
    "    if input(\"继续吗？\\n（回车=结束；任意输入=继续）\"):\n",
    "        print(\"OK 继续上传下一首\")\n",
    "    else:\n",
    "        break\n",
    "    schedule_time = schedule_time + one_day"
   ]
  },
  {
   "cell_type": "markdown",
   "metadata": {},
   "source": [
    "### 用这个命令来查看当前目录有哪些文件："
   ]
  },
  {
   "cell_type": "code",
   "execution_count": 6,
   "metadata": {},
   "outputs": [
    {
     "name": "stdout",
     "output_type": "stream",
     "text": [
      " Volume in drive C is Windows\n",
      " Volume Serial Number is F826-B596\n",
      "\n",
      " Directory of C:\\Users\\youda\\Desktop\\work\\utopia\n",
      "\n",
      "2020/11/04  13:28    <DIR>          .\n",
      "2020/11/04  13:28    <DIR>          ..\n",
      "2020/11/04  12:46    <DIR>          .ipynb_checkpoints\n",
      "2020/09/06  19:07                22 2020-9-6.txt\n",
      "2020/10/30  11:38         4,320,041 Goose house (グースハウス) - 3_4.mp3\n",
      "2020/10/30  15:10            29,798 handle.ipynb\n",
      "2020/07/20  13:47             5,260 hitokoto.ipynb\n",
      "2020/07/20  13:14                 0 hitokoto_bot.log\n",
      "2020/10/30  10:53               111 hitokoto_client.secret\n",
      "2020/10/30  10:53                66 hitokoto_user.secret\n",
      "2020/11/04  12:47               111 night_client.secret\n",
      "2020/11/04  12:47                66 night_user.secret\n",
      "2020/07/08  20:28           412,477 outbox.json\n",
      "2020/09/06  16:58               111 pytooter_clientcred.secret\n",
      "2020/09/06  16:58                66 pytooter_usercred.secret\n",
      "2020/07/31  15:48           982,478 toots_transfer.ipynb\n",
      "2020/11/04  13:28             8,495 upload-music.ipynb\n",
      "2020/11/04  13:25         5,105,104 宋冬野 - 董小姐.mp3\n",
      "              15 File(s)     10,864,206 bytes\n",
      "               3 Dir(s)  20,327,460,864 bytes free\n"
     ]
    }
   ],
   "source": [
    "ls"
   ]
  },
  {
   "cell_type": "markdown",
   "metadata": {},
   "source": [
    "### 事后检查和清理"
   ]
  },
  {
   "cell_type": "code",
   "execution_count": 5,
   "metadata": {},
   "outputs": [
    {
     "data": {
      "text/plain": [
       "[{'id': 59,\n",
       "  'scheduled_at': datetime.datetime(2020, 10, 31, 14, 22, tzinfo=tzutc()),\n",
       "  'params': {'poll': None,\n",
       "   'text': '@twisted 2020/10/30\\n\\n歌曲：3/4\\n艺术家：Goose house (グースハウス)',\n",
       "   'media_ids': ['105122459712447351'],\n",
       "   'sensitive': None,\n",
       "   'visibility': 'direct',\n",
       "   'idempotency': None,\n",
       "   'scheduled_at': None,\n",
       "   'spoiler_text': None,\n",
       "   'application_id': 226,\n",
       "   'in_reply_to_id': None,\n",
       "   'with_rate_limit': False},\n",
       "  'media_attachments': [{'id': 105122459712447351,\n",
       "    'type': 'audio',\n",
       "    'url': 'https://utopia.cool/system/media_attachments/files/105/122/459/712/447/351/original/cbc2282efcd33b7b.mp3?1604041430',\n",
       "    'preview_url': 'https://utopia.cool/system/media_attachments/thumbnails/105/122/459/712/447/351/original/006705abd146fc90.png?1604041430',\n",
       "    'remote_url': None,\n",
       "    'preview_remote_url': None,\n",
       "    'text_url': 'https://utopia.cool/media/lMVSA4mtFSsUKytpoQc',\n",
       "    'meta': {'colors': {'background': '#a59f9f',\n",
       "      'foreground': '#302e3a',\n",
       "      'accent': '#373648'},\n",
       "     'original': {'width': 500,\n",
       "      'height': 500,\n",
       "      'duration': 264.411429,\n",
       "      'bitrate': 130706},\n",
       "     'small': {'width': 400, 'height': 400, 'size': '400x400', 'aspect': 1.0}},\n",
       "    'description': None,\n",
       "    'blurhash': 'UDG[vXI9xF_3R.IU%g?a?bNHt7xu00%LxuRj'}]}]"
      ]
     },
     "execution_count": 5,
     "metadata": {},
     "output_type": "execute_result"
    }
   ],
   "source": [
    "#查询已有的定时消息\n",
    "mastodon.scheduled_statuses()"
   ]
  },
  {
   "cell_type": "code",
   "execution_count": 3,
   "metadata": {},
   "outputs": [],
   "source": [
    "# 删除已有的定时消息（用'id': 66这个键值来指定删除某条）\n",
    "mastodon.scheduled_status_delete(66)"
   ]
  },
  {
   "cell_type": "code",
   "execution_count": null,
   "metadata": {},
   "outputs": [],
   "source": []
  }
 ],
 "metadata": {
  "kernelspec": {
   "display_name": "Python 3",
   "language": "python",
   "name": "python3"
  },
  "language_info": {
   "codemirror_mode": {
    "name": "ipython",
    "version": 3
   },
   "file_extension": ".py",
   "mimetype": "text/x-python",
   "name": "python",
   "nbconvert_exporter": "python",
   "pygments_lexer": "ipython3",
   "version": "3.7.4"
  }
 },
 "nbformat": 4,
 "nbformat_minor": 2
}
